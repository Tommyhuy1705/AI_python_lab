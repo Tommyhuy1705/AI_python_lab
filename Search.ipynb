{
 "cells": [
  {
   "cell_type": "markdown",
   "metadata": {},
   "source": [
    "*** BAI 1 : XÂY DỰNG LẠI CÁC KIỂU TÌM KIẾM ***"
   ]
  },
  {
   "cell_type": "code",
   "execution_count": 1,
   "metadata": {},
   "outputs": [],
   "source": [
    "class TreeNode:\n",
    "    def __init__(self, value):\n",
    "        self.value = value\n",
    "\n",
    "A = TreeNode('A')\n",
    "B = TreeNode('B')\n",
    "C = TreeNode('C')\n",
    "D = TreeNode('D')\n",
    "E = TreeNode('E')\n",
    "F = TreeNode('F')\n",
    "G = TreeNode('G')\n",
    "H = TreeNode('H')\n",
    "I = TreeNode('I')\n",
    "J = TreeNode('J')\n",
    "K = TreeNode('K')\n",
    "L = TreeNode('L')\n",
    "M = TreeNode('M')\n",
    "N = TreeNode('N')\n",
    "O = TreeNode('O')\n",
    "\n",
    "N_root = [ A, B, C, D, E, F, G] #các nút\n",
    "A_edges12 = [(A,B,1), (A,C,4), (B, D,2), (B, E,5), (C,F,6), (C,G,3)] #các cạnh (root,root,cost)\n",
    "A_edges345 = [(A,B), (A,C), (B, D), (B, E), (C,F), (C,G), (D,H), (D,I),(E,J),(E,K),(F,L),(F,M),(G,N),(G,O)] #for DFS, DLS,IDS"
   ]
  },
  {
   "cell_type": "markdown",
   "metadata": {},
   "source": [
    "*** BFS ***"
   ]
  },
  {
   "cell_type": "code",
   "execution_count": 2,
   "metadata": {},
   "outputs": [
    {
     "name": "stdout",
     "output_type": "stream",
     "text": [
      "Tim thay: E\n"
     ]
    }
   ],
   "source": [
    "import queue\n",
    "\n",
    "def BFS(N,A,n0,DICH):\n",
    "    finge = queue.Queue()\n",
    "    finge.put(n0)\n",
    "    closed = list()\n",
    "    while not finge.empty():\n",
    "        n = finge.get()\n",
    "        closed.append(n)\n",
    "        #print(n.value)\n",
    "        if(n == DICH): return \"Tim thay: \" + n.value\n",
    "        for root in A:\n",
    "            if(n == root[0] and root[1] not in closed): finge.put(root[1])\n",
    "\n",
    "    return \"No Solution\"\n",
    "\n",
    "testcase1 = BFS(N_root, A_edges12,A,E)\n",
    "print(testcase1)"
   ]
  },
  {
   "cell_type": "markdown",
   "metadata": {},
   "source": [
    "*** DFS ***"
   ]
  },
  {
   "cell_type": "code",
   "execution_count": 3,
   "metadata": {},
   "outputs": [
    {
     "name": "stdout",
     "output_type": "stream",
     "text": [
      "Tim Thay: E\n"
     ]
    }
   ],
   "source": [
    "import queue\n",
    "def DFS(N,A,n0,DICH):\n",
    "    finge = queue.LifoQueue()\n",
    "    finge.put(n0)\n",
    "    closed = list()\n",
    "    while not finge.empty():\n",
    "        n = finge.get()\n",
    "        closed.append(n)\n",
    "        #print(n.value)\n",
    "        if(n == DICH): return \"Tim Thay: \" + n.value\n",
    "        for root in A:\n",
    "            if(n == root[0] and root[1] not in closed): finge.put(root[1])\n",
    "    return \"No Solution\"\n",
    "\n",
    "testcase3 = DFS(N_root,A_edges345,A,E)\n",
    "print(testcase3)"
   ]
  },
  {
   "cell_type": "markdown",
   "metadata": {},
   "source": [
    "*** DLS ***"
   ]
  },
  {
   "cell_type": "code",
   "execution_count": 4,
   "metadata": {},
   "outputs": [
    {
     "name": "stdout",
     "output_type": "stream",
     "text": [
      "Tìm thấy: G\n"
     ]
    }
   ],
   "source": [
    "import queue\n",
    "def DLS(N, A, n0, DICH, depth_limit):\n",
    "    finge = queue.LifoQueue()\n",
    "    finge.put((n0, 0))  \n",
    "    closed = list()\n",
    "\n",
    "    while not finge.empty():\n",
    "        (n, depth) = finge.get()  \n",
    "        closed.append(n)\n",
    "\n",
    "        if n == DICH:\n",
    "            return \"Tìm thấy: \" + n.value\n",
    "\n",
    "        if depth < depth_limit:  \n",
    "            for root in A:\n",
    "                if n == root[0] and root[1] not in closed:\n",
    "                    finge.put((root[1], depth + 1)) \n",
    "    return \"failure\"\n",
    "testcase4 = DLS(N_root,A_edges345,A,G,3)\n",
    "print(testcase4)"
   ]
  },
  {
   "cell_type": "code",
   "execution_count": 5,
   "metadata": {},
   "outputs": [],
   "source": [
    "import queue\n",
    "def depth_limited_search(problem, depth_limit):\n",
    "    return recursive_dls(problem.initial_state, problem, depth_limit)\n",
    "\n",
    "def recursive_dls(node, problem, depth_limit):\n",
    "    if problem.is_goal(node):\n",
    "        return [node]\n",
    "    elif depth_limit == 0:\n",
    "        return \"cutoff\"\n",
    "    else:\n",
    "        for child in problem.expand(node):\n",
    "            result = recursive_dls(child, problem, depth_limit - 1)\n",
    "            if result == \"cutoff\":\n",
    "                continue\n",
    "            elif result != \"failure\":\n",
    "                return [node] + result\n",
    "        return \"failure\""
   ]
  },
  {
   "cell_type": "markdown",
   "metadata": {},
   "source": [
    "*** IDS ***"
   ]
  },
  {
   "cell_type": "code",
   "execution_count": 6,
   "metadata": {},
   "outputs": [
    {
     "name": "stdout",
     "output_type": "stream",
     "text": [
      "Tìm thấy: F Voi do sau la 2\n"
     ]
    }
   ],
   "source": [
    "import queue\n",
    "def IDS(N,A,n0,DICH):\n",
    "    limit = 0\n",
    "    while limit < 100000:\n",
    "        finge = queue.LifoQueue()\n",
    "        finge.put((n0, 0))  \n",
    "        closed = list()\n",
    "\n",
    "        while not finge.empty():\n",
    "            (n, depth) = finge.get()\n",
    "            closed.append(n)\n",
    "\n",
    "            if n == DICH:\n",
    "                return \"Tìm thấy: \" + n.value + \" Voi do sau la \" + str(limit)\n",
    "            \n",
    "            if depth < limit:\n",
    "                for root in A:\n",
    "                    if n == root[0] and root[1] not in closed:\n",
    "                        finge.put((root[1], depth + 1))  \n",
    "       \n",
    "        limit += 1       \n",
    "    return \"No Solution\"\n",
    "testcase5 = IDS(N_root,A_edges345,A,F)\n",
    "print(testcase5)"
   ]
  }
 ],
 "metadata": {
  "kernelspec": {
   "display_name": "Python 3",
   "language": "python",
   "name": "python3"
  },
  "language_info": {
   "codemirror_mode": {
    "name": "ipython",
    "version": 3
   },
   "file_extension": ".py",
   "mimetype": "text/x-python",
   "name": "python",
   "nbconvert_exporter": "python",
   "pygments_lexer": "ipython3",
   "version": "3.12.undefined"
  }
 },
 "nbformat": 4,
 "nbformat_minor": 2
}
