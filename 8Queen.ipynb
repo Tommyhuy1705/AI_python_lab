{
 "cells": [
  {
   "cell_type": "code",
   "execution_count": 1,
   "metadata": {},
   "outputs": [],
   "source": [
    "from simpleai.search import CspProblem\n",
    "\n",
    "# Biến đại diện cho các hàng của bàn cờ\n",
    "variables = ('Q1', 'Q2', 'Q3', 'Q4', 'Q5', 'Q6', 'Q7', 'Q8')\n",
    "\n",
    "domains = {\n",
    "    'Q1': [1, 2, 3, 4, 5, 6, 7, 8],\n",
    "    'Q2': [1, 2, 3, 4, 5, 6, 7, 8],\n",
    "    'Q3': [1, 2, 3, 4, 5, 6, 7, 8],\n",
    "    'Q4': [1, 2, 3, 4, 5, 6, 7, 8],\n",
    "    'Q5': [1, 2, 3, 4, 5, 6, 7, 8],\n",
    "    'Q6': [1, 2, 3, 4, 5, 6, 7, 8],\n",
    "    'Q7': [1, 2, 3, 4, 5, 6, 7, 8],\n",
    "    'Q8': [1, 2, 3, 4, 5, 6, 7, 8],\n",
    "}\n",
    "\n",
    "def const_different(variables, values):\n",
    "    return len(values) == len(set(values))\n",
    "\n",
    "def const_not_on_same_diagonal(variables, values):\n",
    "    for i in range(len(variables)):\n",
    "        for j in range(i + 1, len(variables)):\n",
    "            if abs(values[i] - values[j]) == abs(i - j):\n",
    "                return False\n",
    "    return True\n",
    "\n",
    "constraints = [\n",
    "    (variables, const_different), \n",
    "    (variables, const_not_on_same_diagonal), \n",
    "]\n",
    "\n",
    "problem = CspProblem(variables, domains, constraints)"
   ]
  },
  {
   "cell_type": "markdown",
   "metadata": {},
   "source": [
    "*** BACKTRACK ***"
   ]
  },
  {
   "cell_type": "code",
   "execution_count": 2,
   "metadata": {},
   "outputs": [
    {
     "name": "stdout",
     "output_type": "stream",
     "text": [
      "{'Q1': 1, 'Q2': 5, 'Q3': 8, 'Q4': 6, 'Q5': 3, 'Q6': 7, 'Q7': 2, 'Q8': 4}\n",
      "[1, 0, 0, 0, 0, 0, 0, 0]\n",
      "[0, 0, 0, 0, 1, 0, 0, 0]\n",
      "[0, 0, 0, 0, 0, 0, 0, 1]\n",
      "[0, 0, 0, 0, 0, 1, 0, 0]\n",
      "[0, 0, 1, 0, 0, 0, 0, 0]\n",
      "[0, 0, 0, 0, 0, 0, 1, 0]\n",
      "[0, 1, 0, 0, 0, 0, 0, 0]\n",
      "[0, 0, 0, 1, 0, 0, 0, 0]\n"
     ]
    }
   ],
   "source": [
    "from simpleai.search import backtrack\n",
    "result = backtrack(problem)\n",
    "print(result)\n",
    "\n",
    "board = [[0 for _ in range(8)] for _ in range(8)]\n",
    "for row in range(8):\n",
    "    column = result[f'Q{row + 1}'] - 1  \n",
    "    board[row][column] = 1\n",
    "for row in board:\n",
    "    print(row)"
   ]
  },
  {
   "cell_type": "markdown",
   "metadata": {},
   "source": [
    "*** GREEDY ***"
   ]
  },
  {
   "cell_type": "code",
   "execution_count": 1,
   "metadata": {},
   "outputs": [],
   "source": [
    "from simpleai.search import SearchProblem\n",
    "\n",
    "class EightQueensProblem(SearchProblem):\n",
    "    def actions(self, state):\n",
    "        if len(state) == 8:\n",
    "            return []\n",
    "        return [(len(state), i) for i in range(8)]\n",
    "\n",
    "    def result(self, state, action):\n",
    "        return state + (action,)\n",
    "\n",
    "    def is_goal(self, state):\n",
    "        return len(state) == 8 and self.conflicts(state) == 0\n",
    "\n",
    "    def conflicts(self, state):\n",
    "        conflicts = 0\n",
    "        for (r1, c1) in state:\n",
    "            for (r2, c2) in state:\n",
    "                if (r1, c1) != (r2, c2):\n",
    "                    if r1 == r2 or c1 == c2 or abs(r1 - r2) == abs(c1 - c2):\n",
    "                        conflicts += 1\n",
    "        return conflicts\n",
    "\n",
    "    def heuristic(self, state):\n",
    "        return self.conflicts(state)\n",
    "\n",
    "initial_state = ()\n",
    "problem = EightQueensProblem(initial_state)"
   ]
  },
  {
   "cell_type": "code",
   "execution_count": 2,
   "metadata": {},
   "outputs": [
    {
     "name": "stdout",
     "output_type": "stream",
     "text": [
      "((0, 5), (1, 2), (2, 4), (3, 7), (4, 0), (5, 3), (6, 1), (7, 6))\n",
      "0 0 0 0 0 1 0 0\n",
      "0 0 1 0 0 0 0 0\n",
      "0 0 0 0 1 0 0 0\n",
      "0 0 0 0 0 0 0 1\n",
      "1 0 0 0 0 0 0 0\n",
      "0 0 0 1 0 0 0 0\n",
      "0 1 0 0 0 0 0 0\n",
      "0 0 0 0 0 0 1 0\n"
     ]
    }
   ],
   "source": [
    "from simpleai.search import greedy\n",
    "result = greedy(problem)\n",
    "board = [[0 for _ in range(8)] for _ in range(8)]\n",
    "print(result.state)\n",
    "for coord in result.state:\n",
    "    x, y = coord\n",
    "    board[x][y] = 1\n",
    "for row in board:\n",
    "    print(' '.join(map(str, row)))"
   ]
  },
  {
   "cell_type": "markdown",
   "metadata": {},
   "source": [
    "*** SIMULATED ANNEALING ***"
   ]
  },
  {
   "cell_type": "code",
   "execution_count": 6,
   "metadata": {},
   "outputs": [
    {
     "name": "stdout",
     "output_type": "stream",
     "text": [
      "(0, 0, 0, 0, 0, 4, 0, 0)\n",
      "1 0 0 0 0 0 0 0 \n",
      "1 0 0 0 0 0 0 0 \n",
      "1 0 0 0 0 0 0 0 \n",
      "1 0 0 0 0 0 0 0 \n",
      "1 0 0 0 0 0 0 0 \n",
      "0 0 0 0 1 0 0 0 \n",
      "1 0 0 0 0 0 0 0 \n",
      "1 0 0 0 0 0 0 0 \n"
     ]
    }
   ],
   "source": [
    "from simpleai.search import simulated_annealing\n",
    "solution_node = simulated_annealing(problem)\n",
    "solution = solution_node.state\n",
    "print(solution)\n",
    "for row in range(8):\n",
    "    line = \"\"\n",
    "    for col in range(8):\n",
    "        if solution[row] == col:\n",
    "            line += \"1\"\n",
    "        else:\n",
    "            line += \"0\"\n",
    "        line +=\" \"\n",
    "    print(line)"
   ]
  },
  {
   "cell_type": "markdown",
   "metadata": {},
   "source": [
    "*** GENETICS ***"
   ]
  },
  {
   "cell_type": "code",
   "execution_count": 7,
   "metadata": {},
   "outputs": [
    {
     "name": "stdout",
     "output_type": "stream",
     "text": [
      "(0, 7, 3, 6, 1, 1, 4, 2)\n",
      "1 0 0 0 0 0 0 0 \n",
      "0 0 0 0 0 0 0 1 \n",
      "0 0 0 1 0 0 0 0 \n",
      "0 0 0 0 0 0 1 0 \n",
      "0 1 0 0 0 0 0 0 \n",
      "0 1 0 0 0 0 0 0 \n",
      "0 0 0 0 1 0 0 0 \n",
      "0 0 1 0 0 0 0 0 \n"
     ]
    }
   ],
   "source": [
    "from simpleai.search import genetic\n",
    "problem = EightQueensProblem()\n",
    "solution_node = genetic(problem, population_size=100, mutation_chance=0.05)\n",
    "solution = solution_node.state\n",
    "print(solution)\n",
    "for row in range(8):\n",
    "    line = \"\"\n",
    "    for col in range(8):\n",
    "        if solution[row] == col:\n",
    "            line += \"1\"\n",
    "        else:\n",
    "            line += \"0\"\n",
    "        line+=\" \"\n",
    "    print(line)"
   ]
  },
  {
   "cell_type": "markdown",
   "metadata": {},
   "source": [
    "*** A* - ASTAR ***"
   ]
  },
  {
   "cell_type": "code",
   "execution_count": 3,
   "metadata": {},
   "outputs": [
    {
     "name": "stdout",
     "output_type": "stream",
     "text": [
      "((0, 0), (1, 5), (2, 7), (3, 2), (4, 6), (5, 3), (6, 1), (7, 4))\n",
      "1 0 0 0 0 0 0 0\n",
      "0 0 0 0 0 1 0 0\n",
      "0 0 0 0 0 0 0 1\n",
      "0 0 1 0 0 0 0 0\n",
      "0 0 0 0 0 0 1 0\n",
      "0 0 0 1 0 0 0 0\n",
      "0 1 0 0 0 0 0 0\n",
      "0 0 0 0 1 0 0 0\n"
     ]
    }
   ],
   "source": [
    "from simpleai.search import astar\n",
    "result = astar(problem)\n",
    "print(result.state)\n",
    "board = [[0 for _ in range(8)] for _ in range(8)]\n",
    "for coord in result.state:\n",
    "    x, y = coord\n",
    "    board[x][y] = 1\n",
    "for row in board:\n",
    "    print(' '.join(map(str, row)))"
   ]
  },
  {
   "cell_type": "markdown",
   "metadata": {},
   "source": [
    "*** HILL CLIMBING ***"
   ]
  },
  {
   "cell_type": "code",
   "execution_count": 4,
   "metadata": {},
   "outputs": [],
   "source": [
    "from simpleai.search import SearchProblem\n",
    "import random\n",
    "\n",
    "class EightQueensProblem(SearchProblem):\n",
    "    def generate_random_state(self):\n",
    "        return tuple(random.randint(0, 7) for _ in range(8))\n",
    "\n",
    "    def crossover(self, state1, state2):\n",
    "        crossover_point = random.randint(1, 7)\n",
    "        return state1[:crossover_point] + state2[crossover_point:]\n",
    "\n",
    "    def mutate(self, state):\n",
    "        state = list(state)\n",
    "        index = random.randint(0, 7)\n",
    "        state[index] = random.randint(0, 7)\n",
    "        return tuple(state)\n",
    "\n",
    "    def value(self, state):\n",
    "        conflicts = 0\n",
    "        for i in range(len(state)):\n",
    "            for j in range(i + 1, len(state)):\n",
    "                if state[i] == state[j] or abs(state[i] - state[j]) == abs(i - j):\n",
    "                    conflicts += 1\n",
    "        return -conflicts\n",
    "    \n",
    "    def actions(self, state):\n",
    "        actions = []\n",
    "        for row in range(8):\n",
    "            for col in range(8):\n",
    "                if state[row] != col:\n",
    "                    actions.append((row, col))\n",
    "        return actions\n",
    "\n",
    "    def result(self, state, action):\n",
    "        row, col = action\n",
    "        new_state = list(state)\n",
    "        new_state[row] = col\n",
    "        return tuple(new_state)\n",
    "\n",
    "    def value(self, state):\n",
    "        return -self.heuristic(state)\n",
    "\n",
    "    def heuristic(self, state):\n",
    "        conflicts = 0\n",
    "        for i in range(8):\n",
    "            for j in range(i + 1, 8):\n",
    "                if state[i] == state[j] or abs(state[i] - state[j]) == abs(i - j):\n",
    "                    conflicts += 1\n",
    "        return conflicts\n",
    "\n",
    "initial_state = tuple([0] * 8)\n",
    "problem = EightQueensProblem(initial_state)"
   ]
  },
  {
   "cell_type": "code",
   "execution_count": 5,
   "metadata": {},
   "outputs": [
    {
     "name": "stdout",
     "output_type": "stream",
     "text": [
      "(4, 0, 5, 3, 6, 2, 7, 1)\n",
      "0 0 0 0 1 0 0 0 \n",
      "1 0 0 0 0 0 0 0 \n",
      "0 0 0 0 0 1 0 0 \n",
      "0 0 0 1 0 0 0 0 \n",
      "0 0 0 0 0 0 1 0 \n",
      "0 0 1 0 0 0 0 0 \n",
      "0 0 0 0 0 0 0 1 \n",
      "0 1 0 0 0 0 0 0 \n"
     ]
    }
   ],
   "source": [
    "from simpleai.search import hill_climbing\n",
    "solution_node = hill_climbing(problem)\n",
    "solution = solution_node.state\n",
    "print(solution)\n",
    "for row in range(8):\n",
    "    line = \"\"\n",
    "    for col in range(8):\n",
    "        if solution[row] == col:\n",
    "            line += \"1\"\n",
    "        else:\n",
    "            line += \"0\"\n",
    "        line +=\" \"\n",
    "    print(line)"
   ]
  }
 ],
 "metadata": {
  "kernelspec": {
   "display_name": "Python 3",
   "language": "python",
   "name": "python3"
  },
  "language_info": {
   "codemirror_mode": {
    "name": "ipython",
    "version": 3
   },
   "file_extension": ".py",
   "mimetype": "text/x-python",
   "name": "python",
   "nbconvert_exporter": "python",
   "pygments_lexer": "ipython3",
   "version": "3.12.6"
  }
 },
 "nbformat": 4,
 "nbformat_minor": 2
}
