{
 "cells": [
  {
   "cell_type": "code",
   "execution_count": 1,
   "metadata": {},
   "outputs": [],
   "source": [
    "from simpleai.search import CspProblem\n",
    "\n",
    "variables = ('WA', 'NT', 'Q', 'NSW','V', 'SA', 'T')\n",
    "\n",
    "\n",
    "domains = {\n",
    "    'WA' :['red','blue','yellow'],\n",
    "    'NT' :['red','blue','yellow'],\n",
    "    'Q'  :['red','blue','yellow'],\n",
    "    'NSW':['red','blue','yellow'],\n",
    "    'V'  :['red','blue','yellow'],\n",
    "    'SA' :['red','blue','yellow'],\n",
    "    'T'  :['red','blue','yellow']\n",
    "}\n",
    "\n",
    "def different_color(variables, values):\n",
    "    return values[0] != values[1]\n",
    "\n",
    "constraints = [\n",
    "    (('WA', 'NT'), different_color),\n",
    "    (('WA', 'SA'), different_color),\n",
    "    (('NT', 'SA'), different_color),\n",
    "    (('NT', 'Q'), different_color),\n",
    "    (('SA', 'Q'), different_color),\n",
    "    (('SA', 'NSW'), different_color),\n",
    "    (('SA', 'V'), different_color),\n",
    "    (('Q', 'NSW'), different_color),\n",
    "    (('NSW', 'V'), different_color),\n",
    "]\n",
    "\n",
    "problem = CspProblem(variables, domains, constraints)"
   ]
  },
  {
   "cell_type": "code",
   "execution_count": 2,
   "metadata": {},
   "outputs": [
    {
     "name": "stdout",
     "output_type": "stream",
     "text": [
      "{'WA': 'red', 'NT': 'blue', 'Q': 'red', 'NSW': 'blue', 'V': 'red', 'SA': 'yellow', 'T': 'red'}\n"
     ]
    }
   ],
   "source": [
    "from simpleai.search import backtrack\n",
    "result = backtrack(problem)\n",
    "print(result)"
   ]
  },
  {
   "cell_type": "markdown",
   "metadata": {},
   "source": [
    "*** TEST ***"
   ]
  },
  {
   "cell_type": "code",
   "execution_count": 1,
   "metadata": {},
   "outputs": [],
   "source": [
    "from simpleai.search import CspProblem\n",
    "\n",
    "variables = ('WA', 'NT', 'Q', 'NSW','V', 'SA', 'T')\n",
    "\n",
    "domains = {\n",
    "    'WA' :['red','blue','yellow'],\n",
    "    'NT' :['red','blue','yellow'],\n",
    "    'Q'  :['red','blue','yellow'],\n",
    "    'NSW':['red','blue','yellow'],\n",
    "    'V'  :['red','blue','yellow'],\n",
    "    'SA' :['red','blue','yellow'],\n",
    "    'T'  :['red','blue','yellow']\n",
    "}\n",
    "def different_color(variables, values):\n",
    "    return values[0] != values[1]\n",
    "\n",
    "constraints = [\n",
    "    (('WA','NT'), different_color),\n",
    "    (('WA', 'SA'), different_color),\n",
    "    (('NT', 'SA'), different_color),\n",
    "    (('NT', 'Q'), different_color),\n",
    "    (('SA', 'Q'), different_color),\n",
    "    (('SA', 'NSW'), different_color),\n",
    "    (('SA', 'V'), different_color),\n",
    "    (('Q', 'NSW'), different_color),\n",
    "    (('NSW', 'V'), different_color),\n",
    "]\n",
    "\n",
    "problem = CspProblem(variables, domains, constraints)"
   ]
  },
  {
   "cell_type": "code",
   "execution_count": 2,
   "metadata": {},
   "outputs": [
    {
     "name": "stdout",
     "output_type": "stream",
     "text": [
      "{'WA': 'red', 'NT': 'blue', 'Q': 'red', 'NSW': 'blue', 'V': 'red', 'SA': 'yellow', 'T': 'red'}\n"
     ]
    }
   ],
   "source": [
    "from simpleai.search import backtrack\n",
    "result = backtrack(problem)\n",
    "print(result)"
   ]
  },
  {
   "cell_type": "code",
   "execution_count": 3,
   "metadata": {},
   "outputs": [
    {
     "name": "stdout",
     "output_type": "stream",
     "text": [
      "{'WA': 'red', 'NT': 'blue', 'Q': 'red', 'NSW': 'blue', 'V': 'red', 'SA': 'yellow', 'T': 'red'}\n"
     ]
    }
   ],
   "source": [
    "from simpleai.search import CspProblem\n",
    "variables = ('WA', 'NT', 'Q', 'NSW', 'V', 'SA', 'T')\n",
    "\n",
    "domains = {\n",
    "    'WA' :['red','blue','yellow'],\n",
    "    'NT' :['red','blue','yellow'],\n",
    "    'Q'  :['red','blue','yellow'],\n",
    "    'NSW':['red','blue','yellow'],\n",
    "    'V'  :['red','blue','yellow'],\n",
    "    'SA' :['red','blue','yellow'],\n",
    "    'T'  :['red','blue','yellow']\n",
    "}\n",
    "\n",
    "def different_color(variables, values):\n",
    "    return values[0] != values[1]\n",
    "\n",
    "constraints = [\n",
    "    (('WA','NT'), different_color),\n",
    "    (('WA', 'SA'), different_color),\n",
    "    (('NT', 'SA'), different_color),\n",
    "    (('NT', 'Q'), different_color),\n",
    "    (('SA', 'Q'), different_color),\n",
    "    (('SA', 'NSW'), different_color),\n",
    "    (('SA', 'V'), different_color),\n",
    "    (('Q', 'NSW'), different_color),\n",
    "    (('NSW', 'V'), different_color),\n",
    "]\n",
    "problem = CspProblem(variables, domains, constraints)\n",
    "\n",
    "from simpleai.search import backtrack\n",
    "result = backtrack(problem)\n",
    "print(result)\n"
   ]
  }
 ],
 "metadata": {
  "kernelspec": {
   "display_name": "Python 3",
   "language": "python",
   "name": "python3"
  },
  "language_info": {
   "codemirror_mode": {
    "name": "ipython",
    "version": 3
   },
   "file_extension": ".py",
   "mimetype": "text/x-python",
   "name": "python",
   "nbconvert_exporter": "python",
   "pygments_lexer": "ipython3",
   "version": "3.12.6"
  }
 },
 "nbformat": 4,
 "nbformat_minor": 2
}
