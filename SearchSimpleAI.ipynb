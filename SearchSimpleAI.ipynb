{
 "cells": [
  {
   "cell_type": "code",
   "execution_count": 1,
   "metadata": {},
   "outputs": [],
   "source": [
    "from simpleai.search import SearchProblem\n",
    "\n",
    "GOAL = 'HELLO'\n",
    "\n",
    "\n",
    "class HelloProblem(SearchProblem):\n",
    "    def actions(self, state):\n",
    "        if len(state) < len(GOAL):\n",
    "            return list(' ABCDEFGHIJKLMNOPQRSTUVWXYZ')\n",
    "        else:\n",
    "            return []\n",
    "\n",
    "    def result(self, state, action):\n",
    "        return state + action\n",
    "\n",
    "    def is_goal(self, state):\n",
    "        return state == GOAL\n",
    "    \n",
    "    def cost(self, state, action, state2):\n",
    "        return 1\n",
    "    \n",
    "my_problem = HelloProblem(initial_state='')"
   ]
  },
  {
   "cell_type": "code",
   "execution_count": 2,
   "metadata": {},
   "outputs": [
    {
     "name": "stdout",
     "output_type": "stream",
     "text": [
      "HELLO\n",
      "[(None, ''), ('H', 'H'), ('E', 'HE'), ('L', 'HEL'), ('L', 'HELL'), ('O', 'HELLO')]\n"
     ]
    }
   ],
   "source": [
    "from simpleai.search import breadth_first\n",
    "\n",
    "result = breadth_first(my_problem)\n",
    "print(result.state)\n",
    "print(result.path()) "
   ]
  },
  {
   "cell_type": "code",
   "execution_count": 3,
   "metadata": {},
   "outputs": [
    {
     "name": "stdout",
     "output_type": "stream",
     "text": [
      "HELLO\n",
      "[(None, ''), ('H', 'H'), ('E', 'HE'), ('L', 'HEL'), ('L', 'HELL'), ('O', 'HELLO')]\n"
     ]
    }
   ],
   "source": [
    "from simpleai.search import uniform_cost\n",
    "result = uniform_cost(my_problem)\n",
    "print(result.state)\n",
    "print(result.path())"
   ]
  },
  {
   "cell_type": "code",
   "execution_count": 4,
   "metadata": {},
   "outputs": [
    {
     "name": "stdout",
     "output_type": "stream",
     "text": [
      "HELLO\n",
      "[(None, ''), ('H', 'H'), ('E', 'HE'), ('L', 'HEL'), ('L', 'HELL'), ('O', 'HELLO')]\n"
     ]
    }
   ],
   "source": [
    "from simpleai.search import depth_first\n",
    "result = depth_first(my_problem)\n",
    "print(result.state)\n",
    "print(result.path()) "
   ]
  },
  {
   "cell_type": "code",
   "execution_count": 5,
   "metadata": {},
   "outputs": [
    {
     "name": "stdout",
     "output_type": "stream",
     "text": [
      "HELLO\n",
      "[(None, ''), ('H', 'H'), ('E', 'HE'), ('L', 'HEL'), ('L', 'HELL'), ('O', 'HELLO')]\n"
     ]
    }
   ],
   "source": [
    "from simpleai.search import limited_depth_first\n",
    "result = limited_depth_first(my_problem,5)\n",
    "print(result.state)\n",
    "print(result.path())"
   ]
  },
  {
   "cell_type": "code",
   "execution_count": 6,
   "metadata": {},
   "outputs": [
    {
     "name": "stdout",
     "output_type": "stream",
     "text": [
      "HELLO\n",
      "[(None, ''), ('H', 'H'), ('E', 'HE'), ('L', 'HEL'), ('L', 'HELL'), ('O', 'HELLO')]\n"
     ]
    }
   ],
   "source": [
    "from simpleai.search import iterative_limited_depth_first\n",
    "result = iterative_limited_depth_first(my_problem)\n",
    "print(result.state)\n",
    "print(result.path()) "
   ]
  }
 ],
 "metadata": {
  "kernelspec": {
   "display_name": "Python 3",
   "language": "python",
   "name": "python3"
  },
  "language_info": {
   "codemirror_mode": {
    "name": "ipython",
    "version": 3
   },
   "file_extension": ".py",
   "mimetype": "text/x-python",
   "name": "python",
   "nbconvert_exporter": "python",
   "pygments_lexer": "ipython3",
   "version": "3.12.undefined"
  }
 },
 "nbformat": 4,
 "nbformat_minor": 2
}
